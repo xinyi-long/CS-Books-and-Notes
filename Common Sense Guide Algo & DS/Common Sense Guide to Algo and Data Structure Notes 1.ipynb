{
 "cells": [
  {
   "cell_type": "markdown",
   "id": "eb547977-4fcc-433b-a8bd-dd50b4169f21",
   "metadata": {},
   "source": [
    "# Practice and Notes from 📖 [1]"
   ]
  },
  {
   "cell_type": "code",
   "execution_count": null,
   "id": "ce4c9e2f-c251-4306-aa6d-870d6d17c11d",
   "metadata": {},
   "outputs": [],
   "source": [
    "#冒泡排序 O(N2)\n",
    "def bubble_sort_EL(a):\n",
    "    i_end = len(a) - 1\n",
    "    i = 0\n",
    "    while i_end >= 1:\n",
    "        while i + 1 <= i_end:\n",
    "            if a[i] > a[i+1]:\n",
    "                a[i],a[i+1] = a[i+1], a[i]\n",
    "            i += 1\n",
    "        i = 0\n",
    "        i_end = i_end - 1\n",
    "    return a\n",
    "\n",
    "def bubble_sort_Book(a):\n",
    "    unsorted_until_index = len(a) -1\n",
    "    sorted = False\n",
    "    while not sorted:\n",
    "        sorted = True\n",
    "        for i in range(unsorted_until_index):\n",
    "            if a[i] > a[i+1]:\n",
    "                a[i], a[i+1] = a[i+1], a[i]\n",
    "                sorted = False\n",
    "    return a\n",
    "\n",
    "#选择排序 O(N2/2)，在操作比较中，每遍历一次只需要做一次交换\n",
    "def selection_sort_EL(a):\n",
    "    start = 0\n",
    "    small_i, small_v = 0, a[0]\n",
    "    while start < len(a):\n",
    "        for i in range(start, len(a)):\n",
    "            if a[i] < small_v:\n",
    "                a[i], a[small_i] = a[small_i], a[i]\n",
    "                small_i = i\n",
    "                small_v = a[i]\n",
    "        start = start + 1\n",
    "    return a\n",
    "\n",
    "#插入排序 最坏O(N2+N)，最好O(N),平均O(N2/2）\n",
    "def insertion_sort_EL(a):\n",
    "    temp_i = 1\n",
    "    while temp_i < len(a):\n",
    "        temp_v = a[temp_i]\n",
    "        space_i = temp_i\n",
    "        for i in range(temp_i-1, -1, -1):\n",
    "            if a[i] > temp_v:\n",
    "                a[space_i]= a[i]\n",
    "                space_i = i\n",
    "            if space_i == 0:\n",
    "                break\n",
    "        a[space_i] = temp_v\n",
    "        temp_i += 1\n",
    "    return a\n",
    "\n",
    "def insertion_sort_Book(a):\n",
    "    for index in range(1, len(a)):\n",
    "        temp_value = a[index]\n",
    "        position = index - 1\n",
    "        while position >= 0:\n",
    "            if a[position] > temp_value:\n",
    "                a[position + 1] = a[position]\n",
    "                position = position - 1\n",
    "            else:\n",
    "                break\n",
    "            a[position + 1] = temp\n",
    "    return a"
   ]
  },
  {
   "cell_type": "code",
   "execution_count": 14,
   "id": "21493f3b-3cc4-47ff-a163-b3b4b3b45f1c",
   "metadata": {},
   "outputs": [],
   "source": [
    "a = [65,55,45,35,25,15,10]\n",
    "b = [1,4,3,2,5,6,10,25]"
   ]
  },
  {
   "cell_type": "code",
   "execution_count": 3,
   "id": "e5bca5cb-e32d-4a81-9937-331d65b645e5",
   "metadata": {},
   "outputs": [
    {
     "name": "stdout",
     "output_type": "stream",
     "text": [
      "[10, 15, 25, 35, 45, 55, 65]\n",
      "[10, 15, 25, 35, 45, 55, 65]\n",
      "[10, 15, 25, 35, 45, 55, 65]\n",
      "[10, 15, 25, 35, 45, 55, 65]\n"
     ]
    }
   ],
   "source": [
    "print(bubble_sort_EL(a))\n",
    "print(selection_sort_EL(a))\n",
    "print(insertion_sort_EL(a))\n",
    "print(insertion_sort_Book(a))"
   ]
  },
  {
   "cell_type": "code",
   "execution_count": 4,
   "id": "ea10f2d3-e509-40c6-8ce4-e712fd829765",
   "metadata": {},
   "outputs": [
    {
     "name": "stdout",
     "output_type": "stream",
     "text": [
      "[1, 2, 3, 4, 5, 6]\n",
      "[1, 2, 3, 4, 5, 6]\n",
      "[1, 2, 3, 4, 5, 6]\n",
      "[1, 2, 3, 4, 5, 6]\n"
     ]
    }
   ],
   "source": [
    "print(bubble_sort_EL(b))\n",
    "print(selection_sort_EL(b))\n",
    "print(insertion_sort_EL(b))\n",
    "print(insertion_sort_EL(b))"
   ]
  },
  {
   "cell_type": "code",
   "execution_count": 5,
   "id": "1dad5dcc-8cb4-49e4-bb02-d5140ef52300",
   "metadata": {},
   "outputs": [
    {
     "data": {
      "text/plain": [
       "[10, 15, 25, 35, 45, 55, 65]"
      ]
     },
     "execution_count": 5,
     "metadata": {},
     "output_type": "execute_result"
    }
   ],
   "source": [
    "bubble_sort_Book(a)"
   ]
  },
  {
   "cell_type": "code",
   "execution_count": 6,
   "id": "a344ad69-9246-4ee7-859e-8bc373a5c74c",
   "metadata": {},
   "outputs": [],
   "source": [
    "#二分法查找， 基于有序数组, 注意循环终止条件\n",
    "def binary_search(a,value):\n",
    "    l, r = 0, len(a) - 1\n",
    "    while l <= r:\n",
    "        mid = int(0.5*(l + r))\n",
    "        if a[mid] == value:\n",
    "            return mid\n",
    "        elif a[mid] > value:\n",
    "            r = mid - 1\n",
    "        else:\n",
    "            l = mid + 1\n",
    "    return False"
   ]
  },
  {
   "cell_type": "code",
   "execution_count": 7,
   "id": "e4e1e823-bde7-4ed4-805f-ae89a9ef0970",
   "metadata": {},
   "outputs": [
    {
     "data": {
      "text/plain": [
       "3"
      ]
     },
     "execution_count": 7,
     "metadata": {},
     "output_type": "execute_result"
    }
   ],
   "source": [
    "binary_search(a,35)"
   ]
  },
  {
   "cell_type": "code",
   "execution_count": 8,
   "id": "dbca436a-e259-44c3-9d6a-d24de9255f0c",
   "metadata": {},
   "outputs": [],
   "source": [
    "#查找数组中重复的值 O(N),\n",
    "def check_dup(a):\n",
    "    #b的index用来当作a中的值，b存放该值有没有出现过\n",
    "    b = dict()\n",
    "    for i in range(len(a)):\n",
    "        if a[i] in b.keys():\n",
    "            return True\n",
    "        else:\n",
    "            b[a[i]] = 1\n",
    "    return False"
   ]
  },
  {
   "cell_type": "code",
   "execution_count": 9,
   "id": "8386742c-7e73-424e-b8d3-53e4825247dc",
   "metadata": {},
   "outputs": [],
   "source": [
    "b = dict()\n",
    "b[4] = \"a\""
   ]
  },
  {
   "cell_type": "code",
   "execution_count": 10,
   "id": "9f20a366-6326-4bf0-a4ed-d799bf174dd3",
   "metadata": {},
   "outputs": [
    {
     "data": {
      "text/plain": [
       "True"
      ]
     },
     "execution_count": 10,
     "metadata": {},
     "output_type": "execute_result"
    }
   ],
   "source": [
    "4 in b.keys()"
   ]
  },
  {
   "cell_type": "code",
   "execution_count": 11,
   "id": "36679b54-15c3-4d32-96f1-006a0b2b9b3e",
   "metadata": {},
   "outputs": [
    {
     "data": {
      "text/plain": [
       "False"
      ]
     },
     "execution_count": 11,
     "metadata": {},
     "output_type": "execute_result"
    }
   ],
   "source": [
    "check_dup([10000,1000])"
   ]
  },
  {
   "cell_type": "code",
   "execution_count": 12,
   "id": "bf7c529c-44a4-4ba0-9ccd-2c628a60292f",
   "metadata": {},
   "outputs": [],
   "source": [
    "# 找两个数组中重复\n",
    "def replicate(a,b):\n",
    "    result = []\n",
    "    for i in range(len(a)):\n",
    "        for j in range(len(b)):\n",
    "            if a[i] == b[j]:\n",
    "                result.append(a[i])\n",
    "                break\n",
    "    return result"
   ]
  },
  {
   "cell_type": "code",
   "execution_count": 15,
   "id": "97adbe2e-04ac-4d1e-9309-f63d95ca2007",
   "metadata": {},
   "outputs": [
    {
     "data": {
      "text/plain": [
       "[25, 10]"
      ]
     },
     "execution_count": 15,
     "metadata": {},
     "output_type": "execute_result"
    }
   ],
   "source": [
    "replicate(a,b)"
   ]
  },
  {
   "cell_type": "code",
   "execution_count": 19,
   "id": "87c77ddd-fa21-4577-8d62-a5e0a034436e",
   "metadata": {},
   "outputs": [],
   "source": [
    "#回文数\n",
    "def isPalindrome_EL(s):\n",
    "    if len(s)%2 == 0:\n",
    "        mid = len(s)/2 - 1\n",
    "    else:\n",
    "        mid = int(len(s)/2)\n",
    "    for i in range(mid):\n",
    "        if s[i] != s[len(s)-1-i]:\n",
    "            return False\n",
    "    return True"
   ]
  },
  {
   "cell_type": "code",
   "execution_count": 20,
   "id": "04dcdeb4-d84e-4663-aa52-1686c89cee3e",
   "metadata": {},
   "outputs": [],
   "source": [
    "s1 = \"apple\"\n",
    "s2 = \"kayak\"\n",
    "s3 = \"ooooooo\"\n",
    "s4 = \"lllylll\""
   ]
  },
  {
   "cell_type": "code",
   "execution_count": 22,
   "id": "ac2dce03-d972-4a1d-aa58-fda88436bba6",
   "metadata": {},
   "outputs": [
    {
     "name": "stdout",
     "output_type": "stream",
     "text": [
      "False\n",
      "True\n",
      "True\n",
      "True\n"
     ]
    }
   ],
   "source": [
    "print(isPalindrome_EL(s1))\n",
    "print(isPalindrome_EL(s2))\n",
    "print(isPalindrome_EL(s3))\n",
    "print(isPalindrome_EL(s4))"
   ]
  },
  {
   "cell_type": "code",
   "execution_count": 1,
   "id": "9c2c7dd9-fb54-4d84-a3d8-5c6a5debbd83",
   "metadata": {},
   "outputs": [],
   "source": [
    "#字符串搜索，如果在haystack中发现needle，返回True\n",
    "def find_needle(needle, haystack):\n",
    "    needle_index = 0\n",
    "    haystack_index = 0\n",
    "    for haystack_index in range(len(haystack)):\n",
    "        if needle[needle_index] == haystack[haystack_index]:\n",
    "            found_needle = True\n",
    "            while needle_index < len(needle):\n",
    "                if needle[needle_index] != haystack[haystack_index + needle_index]:\n",
    "                    found_needle = False\n",
    "                    needle_index = 0\n",
    "                    break\n",
    "                needle_index += 1\n",
    "            if found_needle == True:\n",
    "                return True\n",
    "    return False"
   ]
  },
  {
   "cell_type": "code",
   "execution_count": 2,
   "id": "e3362b9d-9450-46d7-ad3d-8459fb0d8600",
   "metadata": {},
   "outputs": [
    {
     "data": {
      "text/plain": [
       "False"
      ]
     },
     "execution_count": 2,
     "metadata": {},
     "output_type": "execute_result"
    }
   ],
   "source": [
    "find_needle(\"ab\",\"apple\")"
   ]
  },
  {
   "cell_type": "code",
   "execution_count": 6,
   "id": "255e5f65-619f-4b36-8b4e-e81fcf0abcbf",
   "metadata": {},
   "outputs": [
    {
     "data": {
      "text/plain": [
       "False"
      ]
     },
     "execution_count": 6,
     "metadata": {},
     "output_type": "execute_result"
    }
   ],
   "source": [
    "find_needle(\"dd\",\"abcdefg\")"
   ]
  },
  {
   "cell_type": "markdown",
   "id": "cfb0cc2c-d55a-4231-bf0b-27e48790ddcf",
   "metadata": {},
   "source": [
    "### Hash Table: 用空间换时间\n",
    "包括hash, map, hash map, dictionary, associate array <br>\n",
    "对每一个key-value，先hash key(采取hash函数),然后把value存储在hash value对应的index(from 1) <br>\n",
    "读取，查找，插入复杂度：O(1)\n",
    "如果有冲突：拉链法，在索引处存储[[key1:value1],[key2:value2]] <br>\n",
    "！避免冲突和节约内存空间取得平衡,loading factor = #elements/#cells ~ 0.7 <br>\n",
    "Hash table的这种方法可以用于优化速度"
   ]
  },
  {
   "cell_type": "code",
   "execution_count": 20,
   "id": "1c04d75b-d54c-4a91-a292-bb53b8767e54",
   "metadata": {},
   "outputs": [],
   "source": [
    "#判断数组是否是另一个数组的子集（如果不用hash,复杂度为O(nxm)),这个复杂度为O(n+m)\n",
    "def isSubset(a1,a2):\n",
    "    #判断哪个数组更小\n",
    "    if len(a1) > len(a2):\n",
    "        large_a = a1\n",
    "        small_a = a2\n",
    "    else:\n",
    "        large_a = a2\n",
    "        small_a = a1\n",
    "    #把更大的数组存储到hashtable中\n",
    "    ht = dict()\n",
    "    for i in large_a:\n",
    "        ht[i] = True\n",
    "    #遍历小数组，check在不在表中\n",
    "    for i in small_a:\n",
    "        if ht.get(i) == None:\n",
    "            return False\n",
    "    return True"
   ]
  },
  {
   "cell_type": "code",
   "execution_count": 19,
   "id": "708a55c7-4810-422d-a583-3ca44474f04c",
   "metadata": {},
   "outputs": [
    {
     "data": {
      "text/plain": [
       "True"
      ]
     },
     "execution_count": 19,
     "metadata": {},
     "output_type": "execute_result"
    }
   ],
   "source": [
    "isSubset([1,2,3],[1,2,3])"
   ]
  },
  {
   "cell_type": "code",
   "execution_count": 25,
   "id": "265b5ced-82e2-46a1-b75a-ffdf31826c96",
   "metadata": {},
   "outputs": [],
   "source": [
    "#返回两个数组的交集，O(N)\n",
    "def Overlap(a1,a2):\n",
    "    ht = dict()\n",
    "    overlap = []\n",
    "    for i in a1:\n",
    "        ht[i] = True\n",
    "    for i in a2:\n",
    "        if ht.get(i) != None:\n",
    "            overlap.append(i)\n",
    "    return overlap"
   ]
  },
  {
   "cell_type": "code",
   "execution_count": 26,
   "id": "ac0ed593-cde1-4021-ae10-23bb33d71e88",
   "metadata": {},
   "outputs": [
    {
     "data": {
      "text/plain": [
       "[2, 3]"
      ]
     },
     "execution_count": 26,
     "metadata": {},
     "output_type": "execute_result"
    }
   ],
   "source": [
    "Overlap([1,2,3],[2,3,4])"
   ]
  },
  {
   "cell_type": "markdown",
   "id": "a964ba0c-243a-44a9-ae6e-693dbefd81c5",
   "metadata": {},
   "source": [
    "## 栈stack\n",
    "LIFO,数据只能插入队列，只能从队列末尾删除数据，只能读取队列末尾的数据<br>\n",
    "类比叠放盘子，每次放在最上面，取最上面"
   ]
  },
  {
   "cell_type": "code",
   "execution_count": 43,
   "id": "e0cb128f-8977-498c-8008-c266133e4fc3",
   "metadata": {},
   "outputs": [],
   "source": [
    "#检查一个字符串中的括号语法是否正确\n",
    "#错误包括：1.有左括号，没有右 2.有右括号，没有左 3.左右括号不匹配\n",
    "#Define class of stack\n",
    "class stack:\n",
    "    def __init__(self):\n",
    "        self.stack = []\n",
    "    def append(self,a):\n",
    "        self.stack.append(a)\n",
    "    def pop(self):\n",
    "        last_element = self.stack.pop()\n",
    "        return last_element\n",
    "    def len(self):\n",
    "        return len(self.stack)\n",
    "    def check(self):\n",
    "        return self.stack"
   ]
  },
  {
   "cell_type": "code",
   "execution_count": 30,
   "id": "f518f42d-4a66-4116-bf1b-8bd30f44b703",
   "metadata": {},
   "outputs": [],
   "source": [
    "def map_brackets(b):\n",
    "    if b == \"}\":\n",
    "        return \"{\"\n",
    "    if b == \"]\":\n",
    "        return \"[\"\n",
    "    if b == \")\":\n",
    "        return \"(\""
   ]
  },
  {
   "cell_type": "code",
   "execution_count": 58,
   "id": "25f4bc28-12c9-401d-a3d8-83e20924d591",
   "metadata": {},
   "outputs": [],
   "source": [
    "def check(s):\n",
    "    left = stack()\n",
    "    for i in s:\n",
    "        if i not in [\"{\", \"[\", \"(\",\"}\",\"]\",\")\"]:\n",
    "            continue\n",
    "        elif i in [\"{\", \"[\", \"(\"]:\n",
    "            left.append(i)\n",
    "        elif i in [\"}\",\"]\",\")\"]:\n",
    "            try:\n",
    "                temp_pair = left.pop()\n",
    "                if temp_pair == map_brackets(i):\n",
    "                    continue\n",
    "                else:\n",
    "                    return \"Error: Not Mapping \"\n",
    "            except:\n",
    "                return \"Error: No Left Bracket\"\n",
    "    print(left.check())\n",
    "    if left.len() == 0:\n",
    "        return \"No Error\"\n",
    "    else:\n",
    "        print(left.len())\n",
    "        return \"Error: Left Bracket Too Much\""
   ]
  },
  {
   "cell_type": "code",
   "execution_count": 59,
   "id": "e9abb54c-5246-4534-a160-8ca4def7a28d",
   "metadata": {},
   "outputs": [],
   "source": [
    "s1 = \"(var x = {y:[1,2,3]})\"\n",
    "s2 = \"aaa(([{]]))\"\n",
    "s3 = \"def map(x:\""
   ]
  },
  {
   "cell_type": "code",
   "execution_count": 60,
   "id": "5320bdfc-cbc2-428c-8af1-e769e8ddeaef",
   "metadata": {},
   "outputs": [
    {
     "name": "stdout",
     "output_type": "stream",
     "text": [
      "[]\n",
      "No Error\n",
      "Error: Not Mapping \n",
      "['(']\n",
      "1\n",
      "Error: Left Bracket Too Much\n"
     ]
    }
   ],
   "source": [
    "print(check(s1))\n",
    "print(check(s2))\n",
    "print(check(s3))"
   ]
  },
  {
   "cell_type": "markdown",
   "id": "58521d9b-a4a7-46d8-900b-fda820cb8693",
   "metadata": {},
   "source": [
    "## 队列queue\n",
    "FIFO,数据只能插入队列末尾，只能从队列前端删除数据，只能读取队列前端的数据<br>\n",
    "多应用于打印机的打印队列和网络应用中的后台任务，飞机等待起飞，病人就诊顺序"
   ]
  },
  {
   "cell_type": "code",
   "execution_count": 63,
   "id": "48f23907-8595-4b4f-bb47-f83bb8ac2bd3",
   "metadata": {},
   "outputs": [],
   "source": [
    "import queue\n",
    "\n",
    "class PrintManager:\n",
    "    def __init__(self):\n",
    "        self.tasks = queue.Queue()\n",
    "    def newtask(self,t):\n",
    "        self.tasks.put(t)\n",
    "    def printtask(self):\n",
    "        t = self.tasks.get()\n",
    "        print(t)"
   ]
  },
  {
   "cell_type": "code",
   "execution_count": 64,
   "id": "302ae6ef-3225-44ac-a5f8-f865f4840585",
   "metadata": {},
   "outputs": [
    {
     "name": "stdout",
     "output_type": "stream",
     "text": [
      "a\n",
      "b\n"
     ]
    }
   ],
   "source": [
    "p = PrintManager()\n",
    "p.newtask(\"a\")\n",
    "p.newtask(\"b\")\n",
    "p.printtask()\n",
    "p.printtask()"
   ]
  },
  {
   "cell_type": "markdown",
   "id": "13ba3518-7db4-40a4-a2bc-6e9e77068d12",
   "metadata": {},
   "source": [
    "## 递归\n",
    "- 递归的结束条件为基础情形，分析代码可以从基础情形开始，倒退至倒数第二步。。。<br>\n",
    "- 计算机对递归顺序：调用factorial(3)，调用factorial(2)，调用factorial(1)，执行factorial(1)，检查调用栈，执行factorial(2)，执行factorial(3)<br>\n",
    "- 调用栈stacker，采取的是LIFO: stacker.append(factorial(3)),append(2),append(1).<br>\n",
    "- stacker.pop(),.pop(),.pop() <br>\n",
    "- 最简单的一类是目标为重复执行一项任务的算法，另一类是根据子问题进行计算 <br>\n",
    "- 自上而下思考时，想拖延问题的方法\n",
    "- tips： 把正在写的函数想象成别人实现过的函数，辨别子问题，分析子问题上调用函数会发生什么，然后以此类推"
   ]
  },
  {
   "cell_type": "code",
   "execution_count": 65,
   "id": "c3b2adbf-9535-462e-b394-ce4095c5d0ad",
   "metadata": {},
   "outputs": [],
   "source": [
    "#文件遍历系统，打印一个大目录下所有小目录中的文件名\n",
    "import os\n",
    "def recursive_listdir(path):\n",
    "    files = os.listdir(path)\n",
    "    for file in files:\n",
    "        file_path = os.path.join(path,file)\n",
    "        if os.path.isfile(file_path):\n",
    "            print(file)\n",
    "        elif os.path.isdir(file_path):\n",
    "            recursive_listdir(file_path)"
   ]
  },
  {
   "cell_type": "code",
   "execution_count": 66,
   "id": "b15405d9-2cb0-4a87-b60f-c8d9b5a5c497",
   "metadata": {},
   "outputs": [],
   "source": [
    "#数组自身翻倍 *技巧：加入额外参数（可以用作默认参数）\n",
    "def double_array(array, index=0):\n",
    "    if index >= len(array):\n",
    "        return\n",
    "    array[index] *= 2\n",
    "    double_array(array, index + 1)\n",
    "a = [1,2,3,4]\n",
    "double_array(a,0)"
   ]
  },
  {
   "cell_type": "code",
   "execution_count": 77,
   "id": "5c270008-e256-4be4-8460-1ce10905a441",
   "metadata": {},
   "outputs": [
    {
     "name": "stdout",
     "output_type": "stream",
     "text": [
      "720\n",
      "720\n"
     ]
    }
   ],
   "source": [
    "#计算阶乘\n",
    "def factorial1(n):\n",
    "    if n == 1:\n",
    "        return 1\n",
    "    return n * factorial1(n-1)\n",
    "\n",
    "def factorial2(n,i=1,product=1):\n",
    "    if i>n:\n",
    "        return product \n",
    "    return factorial2(n, i+1, product *i)\n",
    "\n",
    "print(factorial1(6))\n",
    "print(factorial2(6))"
   ]
  },
  {
   "cell_type": "code",
   "execution_count": 82,
   "id": "9defa87a-0b09-4868-a10b-f2f11a1492f9",
   "metadata": {},
   "outputs": [
    {
     "data": {
      "text/plain": [
       "2"
      ]
     },
     "execution_count": 82,
     "metadata": {},
     "output_type": "execute_result"
    }
   ],
   "source": [
    "#计算字符串中x的个数\n",
    "def count_x(s):\n",
    "    if len(s) == 0:\n",
    "        return 0\n",
    "    if s[0] == \"x\":\n",
    "        return 1 + count_x(s[1:])\n",
    "    else:\n",
    "        return count_x(s[1:])\n",
    "s = \"xapplex\"\n",
    "count_x(s)"
   ]
  },
  {
   "cell_type": "code",
   "execution_count": 86,
   "id": "5edd8520-770d-49c4-a083-9662b195fb59",
   "metadata": {},
   "outputs": [
    {
     "data": {
      "text/plain": [
       "13"
      ]
     },
     "execution_count": 86,
     "metadata": {},
     "output_type": "execute_result"
    }
   ],
   "source": [
    "#台阶问题：假设有n级台阶，一个人每次可以上1，2或者3级，爬到顶端一共有多少不同的路径？\n",
    "def number_of_paths(N):\n",
    "    if N < 0:\n",
    "        return 0\n",
    "    elif (N == 1) or (N==0): \n",
    "        return 1\n",
    "    elif N == 2:\n",
    "        return 2\n",
    "    elif N == 3:\n",
    "        return 4\n",
    "    else:\n",
    "        return number_of_paths(N-1) + number_of_paths(N-2) + number_of_paths(N-3) \n",
    "number_of_paths(5)"
   ]
  },
  {
   "cell_type": "code",
   "execution_count": 87,
   "id": "ea6994dc-253b-4169-9e47-93053d0d0cea",
   "metadata": {},
   "outputs": [
    {
     "data": {
      "text/plain": [
       "274"
      ]
     },
     "execution_count": 87,
     "metadata": {},
     "output_type": "execute_result"
    }
   ],
   "source": [
    "number_of_paths(10)"
   ]
  },
  {
   "cell_type": "code",
   "execution_count": 90,
   "id": "ec13267e-9b80-4ff1-be44-094f31e3f740",
   "metadata": {},
   "outputs": [],
   "source": [
    "#易位词生成，生成输入字符串的所有排列组合 复杂度为O(N!)"
   ]
  },
  {
   "cell_type": "code",
   "execution_count": 97,
   "id": "ea88c805-9c0f-42a8-8b76-e66b325ae8ff",
   "metadata": {},
   "outputs": [
    {
     "data": {
      "text/plain": [
       "2"
      ]
     },
     "execution_count": 97,
     "metadata": {},
     "output_type": "execute_result"
    }
   ],
   "source": [
    "#计算从网格左上角到右下角最短路径的个数，每次只能下/右移一格。\n",
    "def number_of_path(n,m):\n",
    "    if n == 1:\n",
    "        return 1\n",
    "    if m == 1:\n",
    "        return 1\n",
    "    return number_of_path(n-1,m) + number_of_path(n,m-1)\n",
    "number_of_path(2,2)"
   ]
  },
  {
   "cell_type": "code",
   "execution_count": 99,
   "id": "ef73268b-9a83-4594-88e9-9a0a2e66af2a",
   "metadata": {},
   "outputs": [],
   "source": [
    "#斐波那契数列, O(2^n)，每次调用两倍的自己，重复子问题,可以通过动态规划优化\n",
    "def fib(n):\n",
    "    if n==0 or n==1:\n",
    "        return n\n",
    "    return fib(n-2) + fib(n-1)"
   ]
  },
  {
   "cell_type": "markdown",
   "id": "44954537-620d-4edf-aa14-e2b5c726f3c2",
   "metadata": {},
   "source": [
    "## Dynamic Programming\n",
    "- The first method is memoization， 存储之前计算过的函数减少递归调用，e.g. save in a Hash table, improved fib function\n",
    "- The second method is bottom top approach，放弃递归，使用别的方法比如循环来解决同一问题\n",
    "- 即便使用记忆法，递归也比循环要多开销，任何递归都需要计算机在调用栈中跟踪记录递归调用，需要消耗内存。记忆化需要使用哈希表，占用额外空间。"
   ]
  },
  {
   "cell_type": "code",
   "execution_count": 113,
   "id": "4a737d31-138a-414c-8831-d9009545be7f",
   "metadata": {},
   "outputs": [
    {
     "data": {
      "text/plain": [
       "8"
      ]
     },
     "execution_count": 113,
     "metadata": {},
     "output_type": "execute_result"
    }
   ],
   "source": [
    "#斐波那契数列, memo is the dictionary used to store calculated values,复杂度O(n)\n",
    "def fib(n,memo):\n",
    "    if n == 0 or n == 1:\n",
    "        return n\n",
    "    if not memo.get(n):\n",
    "        return fib(n-1,memo) + fib(n-2,memo)\n",
    "    return memo[n]\n",
    "fib(6,{})"
   ]
  },
  {
   "cell_type": "code",
   "execution_count": 120,
   "id": "6f58afed-d7b2-4898-8987-6bad754664bc",
   "metadata": {},
   "outputs": [],
   "source": [
    "#斐波那契数列，循环方法\n",
    "def fib(n):\n",
    "    if n == 0 or n ==1 or n == 2:\n",
    "        return n\n",
    "    a = 0\n",
    "    b = 1\n",
    "    for i in range(1,n+1):\n",
    "        temp = a\n",
    "        a = b\n",
    "        b = temp + a\n",
    "    return b"
   ]
  },
  {
   "cell_type": "code",
   "execution_count": 122,
   "id": "b7dcee9f-9548-4e92-ab6a-a0d03971c2a2",
   "metadata": {},
   "outputs": [
    {
     "data": {
      "text/plain": [
       "21"
      ]
     },
     "execution_count": 122,
     "metadata": {},
     "output_type": "execute_result"
    }
   ],
   "source": [
    "fib(7)"
   ]
  },
  {
   "cell_type": "markdown",
   "id": "903033f0-8447-4ff6-a034-a521a0be6b63",
   "metadata": {},
   "source": [
    "## 排序算法\n",
    "\n",
    "### 快速排序\n",
    "- 很多语言的内置排序算法的底层实现时快速排序，应用了分区和递归\n",
    "  1. 对数组执行分区，分区后，基准已经位于正确的位置\n",
    "  2. 把基准左右的子数组当作新数组，递归执行第1步和第2步\n",
    "  3. 如果某个子数组没有或者只有一个元素，那么它就是基准情形，不对基础情形进行任何操作\n",
    "- 分区操作 function_partition\n",
    "- 平均复杂度O(NlogN)，最差情况下复杂度O(N2)，因为快速排序在平均情况下表现优秀，所以是很多编程语言默认的排序函数\n",
    "\n",
    "### 快速选择（同一class中）\n",
    "- 与快速排序类似，但在分区后至需要关注某一侧的数组\n",
    "- 平均复杂度为O(N)"
   ]
  },
  {
   "cell_type": "code",
   "execution_count": 202,
   "id": "185d5629-05ea-47f8-9966-262cb6e919ad",
   "metadata": {},
   "outputs": [],
   "source": [
    "class sort_array:\n",
    "    def __init__(self,array):\n",
    "        self.array = array\n",
    "        self.len = len(array)\n",
    "    \n",
    "    #分区，使一个数组中小于基准的数都位于基准的左边，大于基准的数都位于右边\n",
    "    def partition(self, left_pointer,right_pointer):\n",
    "        pivot_index = right_pointer\n",
    "        pivot = self.array[pivot_index]\n",
    "        right_pointer -= 1\n",
    "        # 出错：<= 写成了 <\n",
    "        while left_pointer <= right_pointer:\n",
    "            if self.array[left_pointer] <= pivot:\n",
    "                left_pointer += 1\n",
    "            elif self.array[right_pointer] < pivot:\n",
    "                self.array[left_pointer], self.array[right_pointer] = self.array[right_pointer], self.array[left_pointer]\n",
    "            else:\n",
    "                right_pointer -= 1\n",
    "        self.array[left_pointer], self.array[pivot_index] = self.array[pivot_index], self.array[left_pointer] \n",
    "        #print(self.array)\n",
    "        return left_pointer\n",
    "\n",
    "    # 分区，递归\n",
    "    def quicksort(self,left_pointer,right_pointer):\n",
    "        if right_pointer <= left_pointer:\n",
    "            return\n",
    "        # 出错：left_pointer写成了0\n",
    "        pivot = self.partition(left_pointer,right_pointer)\n",
    "        self.quicksort(left_pointer,pivot -1)\n",
    "        self.quicksort(pivot+1,right_pointer)\n",
    "\n",
    "    def quickselect(self,kth_lowest_value, left_pointer, right_pointer):\n",
    "        pivot = self.partition(left_pointer, right_pointer)\n",
    "        if (kth_lowest_value - 1) == pivot:\n",
    "            print(self.array[pivot])\n",
    "            return (self.array[pivot])\n",
    "        elif (kth_lowest_value - 1) < pivot:\n",
    "            self.quickselect(kth_lowest_value,left_pointer,pivot-1)\n",
    "        else:\n",
    "            self.quickselect(kth_lowest_value,pivot+1,right_pointer)"
   ]
  },
  {
   "cell_type": "code",
   "execution_count": 208,
   "id": "2b8330fd-a48d-4900-a05f-12fe61ba0723",
   "metadata": {},
   "outputs": [
    {
     "name": "stdout",
     "output_type": "stream",
     "text": [
      "1\n",
      "2\n"
     ]
    }
   ],
   "source": [
    "# Test quick sort\n",
    "a = sort_array([0,5,2,1,6,3,4])\n",
    "b = sort_array([8,5,6,2,9,1])\n",
    "#a.partition(0,a.len-1)\n",
    "#a.sort(0,a.len-)\n",
    "#a.quicksort(0,a.len-1)\n",
    "#b.quicksort(0,b.len-1)\n",
    "a.quickselect(2,0,a.len-1)\n",
    "b.quickselect(2,0,b.len-1)"
   ]
  },
  {
   "cell_type": "markdown",
   "id": "81d7616f-f424-4a2c-a648-bf618085b6b6",
   "metadata": {},
   "source": [
    "# 基于节点Node的数据结构\n",
    "## 链表 LinkedList\n",
    "- 链表中的每个节点不是存储在连续内存区块中\n",
    "- 每个节点都包含了下一个节点的内存地址\n",
    "- 访问链表时，能直接访问的只有第一个节点\n",
    "- 读取/查找复杂度O(N)\n",
    "- 在开头插入/删除节点：O(1)，在末尾插入节点O(N)，与数组完全相反"
   ]
  },
  {
   "cell_type": "code",
   "execution_count": 210,
   "id": "92b0dcd4-d311-4be3-a47d-8e559d924d07",
   "metadata": {},
   "outputs": [],
   "source": [
    "class Node:\n",
    "    def __init__(self,data):\n",
    "        self.data = data\n",
    "        self.next = None"
   ]
  },
  {
   "cell_type": "code",
   "execution_count": 342,
   "id": "707529ee-a4ce-450d-a9b4-803d2349c36a",
   "metadata": {},
   "outputs": [],
   "source": [
    "class LinkedList:\n",
    "    def __init__(self,head):\n",
    "        self.head = head\n",
    "    def read(self,index):\n",
    "        current_index = 0\n",
    "        current_node = self.head\n",
    "        while current_index < index:\n",
    "            if current_node.next == None:\n",
    "                return \"Read: reached the tail of the LinkedList\"\n",
    "            current_node = current_node.next\n",
    "            current_index += 1\n",
    "        return current_node.data\n",
    "    def index_of(self,value):\n",
    "        current_index = 0\n",
    "        current_node = self.head\n",
    "        # 犯错：循环条件写成 while(current_node.next != None)\n",
    "        while True:\n",
    "            if current_node.data == value:\n",
    "                return current_index\n",
    "            if current_node.next == None:\n",
    "                return \"Searched for index: reached the tail of the LinkedList\"\n",
    "            current_node = current_node.next\n",
    "            current_index += 1\n",
    "    def insert_at_index(self,index,value):\n",
    "        new_node = Node(value)\n",
    "        current_index = 0\n",
    "        current_node = self.head\n",
    "        if index == 0:\n",
    "            new_node.next = current_node\n",
    "            self.head= new_node\n",
    "            return\n",
    "        if index > 0:\n",
    "            while current_index < index - 1:\n",
    "                if current_node.next == None:\n",
    "                    return \"Read: reached the tail of the LinkedList\"\n",
    "                current_node = current_node.next\n",
    "                current_index += 1\n",
    "            new_node.next = current_node.next\n",
    "            current_node.next = new_node\n",
    "            return\n",
    "    def reverse(self):\n",
    "        prev = self.head\n",
    "        cur = self.head.next\n",
    "\n",
    "        if cur==None:\n",
    "            print(\"One Node, cannot reverse\")\n",
    "            return\n",
    "        if cur.next == None:\n",
    "            cur.next=prev\n",
    "            self.head = cur\n",
    "            return\n",
    "\n",
    "        nex = cur.next\n",
    "        \n",
    "        while True:\n",
    "            if nex.next == None:\n",
    "                print(\"End\")\n",
    "                cur.next = prev\n",
    "                nex.next = cur\n",
    "                self.head = nex\n",
    "                return\n",
    "            cur.next = prev\n",
    "            prev = cur\n",
    "            cur = nex\n",
    "            nex = nex.next"
   ]
  },
  {
   "cell_type": "code",
   "execution_count": 347,
   "id": "54a8726f-66ff-4dde-b5d2-e30bf954dc62",
   "metadata": {},
   "outputs": [],
   "source": [
    "node_1 = Node(\"Emma\")\n",
    "node_2 = Node(\"is\")\n",
    "node_3 = Node(\"Beautiful\")\n",
    "node_4 = Node(\"Yay\")\n",
    "node_5 = Node(\"Hey\")\n",
    "node_1.next = node_2\n",
    "node_2.next = node_3\n",
    "node_3.next = node_4\n",
    "node_4.next= node_5\n",
    "l = LinkedList(node_1)"
   ]
  },
  {
   "cell_type": "code",
   "execution_count": 354,
   "id": "68511da5-316c-480e-8d6a-4a41b19bcdcb",
   "metadata": {},
   "outputs": [
    {
     "data": {
      "text/plain": [
       "'is'"
      ]
     },
     "execution_count": 354,
     "metadata": {},
     "output_type": "execute_result"
    }
   ],
   "source": [
    "node_1 = Node(\"Emma\")\n",
    "node_2 = Node(\"is\")\n",
    "node_1.next = node_2\n",
    "l = LinkedList(node_1)\n",
    "l.reverse()\n",
    "l.read(0)"
   ]
  },
  {
   "cell_type": "markdown",
   "id": "877ee3c0-d251-446d-a9b6-a7aef14a1949",
   "metadata": {},
   "source": [
    "# 二叉树和二叉查找树\n",
    "- 每个节点的子节点数都是0，1，2.（一棵二叉树不一定是平衡的）\n",
    "- 每个节点最多有一个左，一个右， 查找树：左节点小于节点本身，右节点值都大于节点本身\n",
    "- 二叉查找树的查找，插入和删除效率都是O(logN)\n",
    "## 二叉树查找，插入\n",
    "基于一颗平衡的树。插入顺序应该是无序的<br>\n",
    "查找：\n",
    "- 效率O(logN)，有n个节点的平衡树有logn层\n",
    "- 让一个节点作为当前节点\n",
    "- 检查当前节点的值\n",
    "- 如果要找的小雨当前节点，那么在左子树中继续查找\n",
    "- 如果要找的大于当前节点，那么在右子树中继续查找\n",
    "- 重复前面步骤，直到到达了树的低端，意味要找的值不在树里"
   ]
  },
  {
   "cell_type": "code",
   "execution_count": 9,
   "id": "2eb57c4b-8626-463e-8694-9dae3fe7f6b8",
   "metadata": {},
   "outputs": [],
   "source": [
    "class TreeNode:\n",
    "    def __init__(self,val,left=None, right=None):\n",
    "        self.value = val\n",
    "        self.leftChild = left\n",
    "        self.rightChild = right\n",
    "    def isempty(self):\n",
    "        return self.value == None\n",
    "        \n",
    "def insert(value, node):\n",
    "    if value < node.value:\n",
    "        if node.leftChild == None:\n",
    "            node.leftChild = TreeNode(value)\n",
    "        else:\n",
    "            insert(value,node.leftChild)\n",
    "    elif value < node.value:\n",
    "        if node.rightChild == None:\n",
    "            node.rightChild = TreeNode(value)\n",
    "        else:\n",
    "            insert(value,node.rightChild)"
   ]
  },
  {
   "cell_type": "markdown",
   "id": "acd554e0-4907-426f-9f9a-a2dd8fac8169",
   "metadata": {},
   "source": [
    "## 二叉树的删除 O(logN)\n",
    "1. 如果没有子节点，查找+直接删除\n",
    "2. 一个子节点，查找+用子节点取代该节点\n",
    "3. 两个子节点，查找+替换为后继节点（大于被删除节点的所有子节点中最小的那个）\n",
    "  - 如果后继节点有一个右子节点，将后继节点的右子节点放到后继节点亩节点的左节点"
   ]
  },
  {
   "cell_type": "code",
   "execution_count": null,
   "id": "14b5abf7-eee4-484d-9e36-c877eaa0db9a",
   "metadata": {},
   "outputs": [],
   "source": []
  },
  {
   "cell_type": "code",
   "execution_count": 24,
   "id": "1e6c43f7-bce6-4f2a-8e53-aac155465497",
   "metadata": {},
   "outputs": [],
   "source": [
    "# 错误代码\n",
    "def delete(valueToDelete, node):\n",
    "    if node == None:\n",
    "        return None\n",
    "    if node.value == valueToDelete:\n",
    "        if (node.leftChild is None) and (node.rightChild is None):\n",
    "            node = None\n",
    "        elif node.leftChild is None:\n",
    "            node = node.leftChild\n",
    "        elif node.rightChild is None:\n",
    "            node = node.rightChild\n",
    "        else:\n",
    "            houji = herit(node.rightChild)\n",
    "            if not houji.rightChild is None:\n",
    "                node = houji\n",
    "                houji = houji.rightChild\n",
    "            else:\n",
    "                node = houji\n",
    "                houji = None\n",
    "    elif valueToDelete < node.value:\n",
    "        delete(valueToDelete, node.leftChild)\n",
    "    elif valueToDelete > node.value:\n",
    "        delete(valueToDelete, node.rightChild)"
   ]
  },
  {
   "cell_type": "code",
   "execution_count": 8,
   "id": "f5f8fce1-3908-4650-b3ef-d6bdd758562b",
   "metadata": {},
   "outputs": [],
   "source": [
    "def herit(node):\n",
    "    if node.leftChild == None:\n",
    "        return node\n",
    "    return herit(node.leftChild)"
   ]
  },
  {
   "cell_type": "code",
   "execution_count": 21,
   "id": "21433f22-8098-4c63-b302-4ee15b7bd3c7",
   "metadata": {},
   "outputs": [],
   "source": [
    "node_1 = TreeNode(10,left= TreeNode(4), right=TreeNode(11))\n",
    "node_2 = TreeNode(33,left= TreeNode(30), right=TreeNode(40))\n",
    "node_3 = TreeNode(56,left= TreeNode(52), right=TreeNode(61))\n",
    "node_4 = TreeNode(89,left= TreeNode(82), right=TreeNode(95))\n",
    "node_5 = TreeNode(25,left=node_1,right=node_2)\n",
    "node_6 = TreeNode(75,left=node_3,right=node_4)\n",
    "node = TreeNode(50,left=node_5,right=node_6)"
   ]
  },
  {
   "cell_type": "code",
   "execution_count": 29,
   "id": "bdae28a1-a671-431c-a475-3638cb020dc5",
   "metadata": {},
   "outputs": [],
   "source": [
    "#访问二叉查找树中所有节点\n",
    "#调用栈对一层\n",
    "def traverse_and_print(node):\n",
    "    if node is None:\n",
    "        return\n",
    "    traverse_and_print(node.leftChild)\n",
    "    print(node)\n",
    "    traverse_and_print(node.rightChild)"
   ]
  },
  {
   "cell_type": "code",
   "execution_count": 37,
   "id": "5ad28081-ff50-4900-ae70-525e76d887ce",
   "metadata": {},
   "outputs": [],
   "source": [
    "def canPlaceFlowers(flowerbed, n: int) -> bool:\n",
    "    maxnum = 0\n",
    "    left_index = 0\n",
    "    right_index = len(flowerbed) - 1\n",
    "    if len(flowerbed) <= 2:\n",
    "        if flowerbed.sum() == 0:\n",
    "            return 1\n",
    "        else:\n",
    "            return 0\n",
    "    else:\n",
    "        while left_index <= right_index:\n",
    "            if (flowerbed[left_index + 1] == 0) \\\n",
    "            and (flowerbed[max(left_index - 1, 0)] == 0) and (flowerbed[left_index] == 0):\n",
    "                print(\"left \",left_index)\n",
    "                flowerbed[left_index] = 1\n",
    "                maxnum += 1\n",
    "                if left_index == right_index:\n",
    "                    break\n",
    "            if (flowerbed[min(right_index + 1,len(flowerbed)-1)] == 0) \\\n",
    "            and (flowerbed[max(right_index - 1, 0)] == 0) and (flowerbed[right_index] == 0):\n",
    "                print(\"right \", right_index)\n",
    "                flowerbed[right_index] = 1\n",
    "                maxnum += 1\n",
    "            left_index += 1\n",
    "            right_index -= 1\n",
    "        return maxnum >= n     "
   ]
  },
  {
   "cell_type": "code",
   "execution_count": 38,
   "id": "b94e17cb-1f7a-47f9-9a41-844d1f8db48d",
   "metadata": {},
   "outputs": [
    {
     "data": {
      "text/plain": [
       "False"
      ]
     },
     "execution_count": 38,
     "metadata": {},
     "output_type": "execute_result"
    }
   ],
   "source": [
    "canPlaceFlowers([1,0,1,0,1],1)"
   ]
  },
  {
   "cell_type": "code",
   "execution_count": null,
   "id": "0ab9ce2b-0fae-4d65-9dfe-eb946dc2ccbc",
   "metadata": {},
   "outputs": [],
   "source": []
  }
 ],
 "metadata": {
  "kernelspec": {
   "display_name": "Python 3 (ipykernel)",
   "language": "python",
   "name": "python3"
  },
  "language_info": {
   "codemirror_mode": {
    "name": "ipython",
    "version": 3
   },
   "file_extension": ".py",
   "mimetype": "text/x-python",
   "name": "python",
   "nbconvert_exporter": "python",
   "pygments_lexer": "ipython3",
   "version": "3.13.1"
  }
 },
 "nbformat": 4,
 "nbformat_minor": 5
}
