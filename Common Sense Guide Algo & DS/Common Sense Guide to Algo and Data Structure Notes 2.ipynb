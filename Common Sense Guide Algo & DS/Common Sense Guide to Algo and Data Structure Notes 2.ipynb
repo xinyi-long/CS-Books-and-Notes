{
 "cells": [
  {
   "cell_type": "markdown",
   "id": "982340f4-d2f4-454f-95e4-1d6021846990",
   "metadata": {},
   "source": [
    "# 堆 Heap\n",
    "In python: heapq.heapify(list), heapq.heappush(),heapq.heappop()\n",
    "## 优先队列 Priority Queue\n",
    "- 删除和读取与普通队列一样：只能从队列的开头进行。但插入可以在任意位置，保持数据总是按顺序排序\n",
    "- abstract data structure\n",
    "- 可以用heap有效实现有限队列"
   ]
  },
  {
   "cell_type": "markdown",
   "id": "b2b5baa6-7a52-49bf-bb89-b2b6233c5058",
   "metadata": {},
   "source": [
    "## 二叉堆\n",
    "- 最大堆：每个节点的值都大于所有后代节点的值\n",
    "- 树必须是完全的：除了最后一行可能有空位置，其他地方不存在缺失的节点。空位置的右边没有节点就行。树的完全保证了平衡性，平衡性重要的原因是它确保了logn的复杂度\n",
    "- 堆的插入：效率为O(logN)\n",
    "- 堆的删除：效率为O(logN) 将尾节点和根节点交换，之后每次将新的根节点下滤，与其两个子节点中较大的那个交换，直到没有比它更大的子节点。"
   ]
  },
  {
   "cell_type": "code",
   "execution_count": 40,
   "id": "57f0945c-733c-41f0-8fe0-577e98da96be",
   "metadata": {},
   "outputs": [],
   "source": [
    "#用数组实现堆\n",
    "class Heap:\n",
    "    def __init__(self, data):\n",
    "        self.h = data\n",
    "    def root_node(self):\n",
    "        return self.h[0]\n",
    "    def last_node(self):\n",
    "        return self.h[-1]\n",
    "    def left_child_index(self,index):\n",
    "        return index*2 + 1\n",
    "    def right_child_index(self,index):\n",
    "        return index*2 + 2\n",
    "    def parent_index(self,index):\n",
    "        return int((index - 1)/2)\n",
    "    def has_greater_child_index(self,index):\n",
    "        left = self.left_child_index(index)\n",
    "        right = self.right_child_index(index)\n",
    "        return ((left <= len(self.h)-1) & (self.h[left] > self.h[index])) or\\\n",
    "        ((right <= len(self.h)-1) & (self.h[right] > self.h[index]))\n",
    "    def greater_child_index(self,index):\n",
    "        if self.right_child_index(index) > len(self.h)-1:\n",
    "            return self.left_child_index(index)\n",
    "        elif self.h[self.left_child_index(index)] > self.h[self.right_child_index(index)]:\n",
    "            return self.left_child_index(index)\n",
    "        else:\n",
    "            return self.right_child_index(index)\n",
    "    def insert(self,value):\n",
    "        self.h.append(value)\n",
    "        cur_ind = len(self.h)-1\n",
    "        par_ind = self.parent_index(cur_ind)\n",
    "        while (value > self.h[par_ind]) and (cur_ind > 0):\n",
    "            self.h[par_ind], self.h[cur_ind] = self.h[cur_ind], self.h[par_ind]\n",
    "            cur_ind = par_ind\n",
    "            par_ind = self.parent_index(cur_ind)\n",
    "    def delete(self,value):\n",
    "        #数组第一个元素替换为数组最后一个元素\n",
    "        self.h[0] = self.h.pop()\n",
    "        index = 0\n",
    "        while self.has_greater_child_index(index):\n",
    "            self.h[index], self.h[self.greater_child_index(index)] = self.h[self.greater_child_index(index)], self.h[index]\n",
    "            index = self.greater_child_index(index)"
   ]
  },
  {
   "cell_type": "code",
   "execution_count": 41,
   "id": "72e95061-fad9-4cdf-bc8d-63c046177599",
   "metadata": {},
   "outputs": [
    {
     "data": {
      "text/plain": [
       "[100, 88, 25, 87, 16, 8, 12, 86, 50, 2, 15, 3]"
      ]
     },
     "execution_count": 41,
     "metadata": {},
     "output_type": "execute_result"
    }
   ],
   "source": [
    "h = Heap([100,88,25,87,16,8,12,86,50,2,15,3])\n",
    "h.h\n",
    "#h.insert(40)\n",
    "#h.delete(100)"
   ]
  },
  {
   "cell_type": "code",
   "execution_count": 45,
   "id": "54486a73-2814-46a7-9dbf-8fc611e345fd",
   "metadata": {},
   "outputs": [
    {
     "data": {
      "text/plain": [
       "'ABCABC'"
      ]
     },
     "execution_count": 45,
     "metadata": {},
     "output_type": "execute_result"
    }
   ],
   "source": [
    "\"ABC\"*2"
   ]
  },
  {
   "cell_type": "markdown",
   "id": "e86b4b20-e5ab-42be-a77b-4f473803646e",
   "metadata": {},
   "source": [
    "# 字典树 trie\n",
    "- 适合自动补全等文字类功能的树\n",
    "- 各种节点指向其他节点，每个节点都包含一个哈希表（k是英语字母，v是字典树中的其他节点）\n",
    "- \\* 表示单词的一部分也是完整的单词\n",
    "## 字典树的查找和插入\n",
    "- 效率O(K)，k表示查找字符串中的字母数量。不是O(N)-字典树中节点的数量"
   ]
  },
  {
   "cell_type": "code",
   "execution_count": 4,
   "id": "623802c5-e9cd-4b92-9796-47ec464afe9f",
   "metadata": {},
   "outputs": [],
   "source": [
    "class TrieNode:\n",
    "    def __init__(self):\n",
    "        self.children = {}\n",
    "\n",
    "class Trie:\n",
    "    def __init__(self):\n",
    "        self.root = TrieNode()\n",
    "\n",
    "    def search(self,word):\n",
    "        #返回word最后一个字母的节点\n",
    "        currentNode = self.root\n",
    "        for char in word:\n",
    "            if currentNode.children.get(char):\n",
    "                currentNode = currentNode.children[char]\n",
    "            else:\n",
    "                return None\n",
    "        return currentNode\n",
    "\n",
    "    def insert(self,word):\n",
    "        currentNode = self.root\n",
    "        for char in word:\n",
    "            if currentNode.children.get(char):\n",
    "                currentNode = currentNode.children[char]\n",
    "            else:\n",
    "                newNode = TrieNode()\n",
    "                currentNode.children[char] = newNode\n",
    "                currentNode = newNode\n",
    "        currentNode.children[\"*\"] = None\n",
    "\n",
    "    def colletAllWords(self,node=None,word=\"\",words=[]):\n",
    "        #params: 开始节点，在字典树移动中不断向word中加入字母，数组在结束后会包含字典树中的所有单词\n",
    "        currentNode = node or self.root\n",
    "        for key, childNode in currentNode.children.items():\n",
    "            if key == \"*\":\n",
    "                words.append(word)\n",
    "            else:\n",
    "                self.collectAllWords(childnode, word+key, words)\n",
    "        return words\n",
    "\n",
    "    def autocomplete(self,prefix):\n",
    "        currentNode = self.search(prefix)\n",
    "        if not currentNode:\n",
    "            return None\n",
    "        return self.collectAllWords(currentNode)\n",
    "\n",
    "\n",
    "    "
   ]
  },
  {
   "cell_type": "markdown",
   "id": "6072b7f4-73e3-476b-9415-43baca84b7bd",
   "metadata": {},
   "source": [
    "## 带有值的字典树实现自动补全\n",
    "例如，在{\"*\":v}中给v输入一个值，表示这个单词的常见程度"
   ]
  },
  {
   "cell_type": "markdown",
   "id": "af0e122f-8ff8-420a-85a7-290c2764ef8e",
   "metadata": {},
   "source": [
    "a = [1,2,2]\n",
    "b = {i:0 for i in a}"
   ]
  },
  {
   "cell_type": "markdown",
   "id": "bcd622b1-fa4a-47fe-9639-4fa4ef78471d",
   "metadata": {},
   "source": [
    "# Graph 图 ->图数据库，图论\n",
    "- 所有的树都是图，但是图未必是树\n",
    "- 图中的节点可能构成环，可以循环引用彼此，但是树不行\n",
    "- 树的每个节点都和其他节点直接或者间接相连，但是图有可能不完全相连,如果图的所有顶点都以某种方式互相连接，这个图就是连通图Connected Graph\n",
    "- 顶点：Vertex， 边：Edge\n",
    "- Directed Graph有向图\n",
    "- Path: a sequence of edges that connect two vertices"
   ]
  },
  {
   "cell_type": "code",
   "execution_count": 50,
   "id": "ab4490ba-6dc5-42e5-8625-58b88738e802",
   "metadata": {},
   "outputs": [],
   "source": [
    "class Vertex:\n",
    "    def __init__(self,value):\n",
    "        self.value = value\n",
    "        self.adjacent_vertices = []\n",
    "    def add_adjacent_vertices(self,vertex):\n",
    "        if vertex in self.adjacent_vertices:\n",
    "            return\n",
    "        #如果单向图只需要下面一行\n",
    "        self.adjacent_vertices.append(vertex)\n",
    "        vertex.adjacent_vertices.append(self)"
   ]
  },
  {
   "cell_type": "code",
   "execution_count": 51,
   "id": "f143f9d9-cb47-4d0c-8d85-02ff1930dcf1",
   "metadata": {},
   "outputs": [],
   "source": [
    "Alice = Vertex(\"Alice\")\n",
    "Bob = Vertex(\"Bob\")\n",
    "Fred = Vertex(\"Fred\")\n",
    "Helen = Vertex(\"Helen\")\n",
    "Candy = Vertex(\"Candy\")\n",
    "Derek = Vertex(\"Derek\")\n",
    "Gina = Vertex(\"Gina\")\n",
    "Irena = Vertex(\"Irena\")\n",
    "Elaine = Vertex(\"Elaine\")\n",
    "Alice.add_adjacent_vertices(Bob)\n",
    "Alice.add_adjacent_vertices(Candy)\n",
    "Alice.add_adjacent_vertices(Derek)\n",
    "Alice.add_adjacent_vertices(Elaine)\n",
    "Bob.add_adjacent_vertices(Fred)\n",
    "Fred.add_adjacent_vertices(Helen)\n",
    "Candy.add_adjacent_vertices(Helen)\n",
    "Derek.add_adjacent_vertices(Gina)\n",
    "Derek.add_adjacent_vertices(Elaine)\n",
    "Gina.add_adjacent_vertices(Irena)"
   ]
  },
  {
   "cell_type": "markdown",
   "id": "b9ab4c48-8349-4fe6-a937-38315db62862",
   "metadata": {},
   "source": [
    "## 图的搜索方式\n",
    "记录已经访问过的顶点，否则会出现无限循环 <br>\n",
    "一种记录方式是Hash Table\n",
    "使用其中哪一种取决于问题：向先尽可能在初始顶点附近搜索，还是想先尽可能远离<br>\n",
    "V:顶点数， E: 顶点的相邻顶点数（number of edges）  O(V + 2E)\n",
    "### 深度优先搜索 DFS\n",
    "Similar to binary tree traverse\n",
    "1. Start with any random vertex\n",
    "2. Add the vertex to a HT (log(1) for search)\n",
    "3. Traverse all adjacent vertices of the vertex\n",
    "4. If visited, skip\n",
    "5. For non-visited vertices, do DFS"
   ]
  },
  {
   "cell_type": "code",
   "execution_count": 52,
   "id": "be1a18d9-eced-49a1-b5ca-b334bb1b2c1d",
   "metadata": {},
   "outputs": [],
   "source": [
    "def dfs_traverse(vertex, visited_vertices={}):\n",
    "    visited_vertices[vertex] = True\n",
    "    print(vertex.value)\n",
    "    for v in vertex.adjacent_vertices:\n",
    "        if not visited_vertices.get(v):\n",
    "            dfs_traverse(v,visited_vertices)"
   ]
  },
  {
   "cell_type": "code",
   "execution_count": 53,
   "id": "f0101e5b-ec66-4001-856b-67d71771695e",
   "metadata": {},
   "outputs": [],
   "source": [
    "def dfs_search(vertex, search_value, visited_vertices={}):\n",
    "    if vertex.value == search_value:\n",
    "        print(\"Found \",search_value)\n",
    "        return vertex\n",
    "    visited_vertices[vertex] = True\n",
    "    for v in vertex.adjacent_vertices:\n",
    "        if not visited_vertices.get(v):\n",
    "            dfs_search(v,search_value,visited_vertices)"
   ]
  },
  {
   "cell_type": "markdown",
   "id": "fed85eca-08e0-4017-aea7-d241477f196e",
   "metadata": {},
   "source": [
    "### 广度优先搜索 BFS\n",
    "不使用递归，使用queue(FIFO)\n",
    "1. Start from a random vertex (starting vertex)\n",
    "2. Add it to a HT\n",
    "3. Push the vertex to queue\n",
    "4. Start a loop while the queue is not empty\n",
    "5. Pop the first vertex in the queue (current vertex)\n",
    "6. Traverse all the adjacent vertices of the current vertex\n",
    "7. If visited, skip the adjacent vertex\n",
    "8. If not visited, add it to the HT and add it in queue\n",
    "9. Repeate (4) to (8) until the queue is empty"
   ]
  },
  {
   "cell_type": "code",
   "execution_count": 54,
   "id": "c52d805b-1040-489f-9a97-00492b51d953",
   "metadata": {},
   "outputs": [
    {
     "name": "stdout",
     "output_type": "stream",
     "text": [
      "Alice\n",
      "Bob\n",
      "Fred\n",
      "Helen\n",
      "Candy\n",
      "Derek\n",
      "Gina\n",
      "Irena\n",
      "Elaine\n",
      "Found  Bob\n",
      "Found  Bob\n"
     ]
    }
   ],
   "source": [
    "dfs_traverse(Alice)\n",
    "dfs_search(Alice,\"Bob\")"
   ]
  },
  {
   "cell_type": "code",
   "execution_count": 55,
   "id": "8ee7c049-cb45-4136-b317-2908fa412a27",
   "metadata": {},
   "outputs": [],
   "source": [
    "import queue\n",
    "def bfs_traverse(starting_vertex):\n",
    "    visited_vertices = {starting_vertex: True}\n",
    "    vqueue = queue.Queue()\n",
    "    vqueue.put(starting_vertex)\n",
    "    while not vqueue.empty():\n",
    "        current_vertex = vqueue.get()\n",
    "        print(current_vertex.value)\n",
    "        for v in current_vertex.adjacent_vertices:\n",
    "            if not visited_vertices.get(v):\n",
    "                visited_vertices[v] = True\n",
    "                vqueue.put(v)"
   ]
  },
  {
   "cell_type": "code",
   "execution_count": 56,
   "id": "b38f3c4d-2f08-4107-b57a-16b0e2daf7e8",
   "metadata": {},
   "outputs": [
    {
     "name": "stdout",
     "output_type": "stream",
     "text": [
      "Alice\n",
      "Bob\n",
      "Candy\n",
      "Derek\n",
      "Elaine\n",
      "Fred\n",
      "Helen\n",
      "Gina\n",
      "Irena\n"
     ]
    }
   ],
   "source": [
    "bfs_traverse(Alice)"
   ]
  },
  {
   "cell_type": "markdown",
   "id": "ade71a17-8cf1-423f-884b-76f3fa2e7932",
   "metadata": {},
   "source": [
    "### Dijkstra's algorithm最短路径\n",
    "最坏：O(N2)\n",
    "- shortest path - with no weights -> ( bfs always)\n",
    "- shortest path - with weights as 0/1 - > (0/1 bfs always)\n",
    "- shortest path - with any weights( without -ve edge cycle) ->dijkstra always"
   ]
  },
  {
   "cell_type": "markdown",
   "id": "9a71de7b-d45b-479a-b95e-749c3d3a5ee7",
   "metadata": {},
   "source": [
    "### Greedy\n",
    "每一步都选择当前最好的选项 <br>\n",
    "根据当前已知的信息做出看起来最好的选择"
   ]
  },
  {
   "cell_type": "code",
   "execution_count": null,
   "id": "3485d025-a2b0-41b9-8c4b-65dae06d7003",
   "metadata": {},
   "outputs": [],
   "source": []
  }
 ],
 "metadata": {
  "kernelspec": {
   "display_name": "Python 3 (ipykernel)",
   "language": "python",
   "name": "python3"
  },
  "language_info": {
   "codemirror_mode": {
    "name": "ipython",
    "version": 3
   },
   "file_extension": ".py",
   "mimetype": "text/x-python",
   "name": "python",
   "nbconvert_exporter": "python",
   "pygments_lexer": "ipython3",
   "version": "3.13.1"
  }
 },
 "nbformat": 4,
 "nbformat_minor": 5
}
